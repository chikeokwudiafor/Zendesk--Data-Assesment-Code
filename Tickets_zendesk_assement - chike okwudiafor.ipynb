{
 "cells": [
  {
   "cell_type": "markdown",
   "id": "ae6665e6",
   "metadata": {},
   "source": [
    "#### Chike Okwudiafor"
   ]
  },
  {
   "cell_type": "markdown",
   "id": "0e248c1e",
   "metadata": {},
   "source": [
    "# Data Challenge: Zendesk Customer Advocacy Analysis\n",
    "The VP of Customer Advocacy has asked our team to evaluate how well we have been supporting our customers over the last few quarters and provide meaningful business insights. Of course, Zendesk uses the Zendesk Support product to provide a beautifully simple customer service experience to our customers. Our data comes from our instance of Zendesk Support.\n",
    "In this project we will be analyzing the Zendesk Customer Advocacy Support Tickets \n",
    "\n",
    "Following is description of the columns present in the dataset:\n",
    "\n",
    "* EmployeeID: Unique numeric identifier for Zendesk employee\n",
    "* TicketChannel: Mechanism through which ticket was created:\n",
    "    * Email - by email to our support address\n",
    "    * Web - by web form through Help Center or by advocates in Zendesk Support UI\n",
    "    * Chat - by chat widget\n",
    "    * Voice - by phone call, including incoming, outgoing and voicemail\n",
    "    * API - by API call, including custom integrations e.g. forms embedded in product, Computer Telephony Integration (CTI) for Talk Partner Edition customers, ticket sharing across multiple subdomains\n",
    "    * Twitter - by Twitter post, Twitter direct message, Twitter like\n",
    "    * Facebook - by Facebook post or private message\n",
    "    * Help Center - Help Center post\n",
    "    * SMS - by text\n",
    "    * Mobile - by mobile \n",
    " \n",
    "* TicketGroup Advocacy group in which advocate who is assigned and who solved ticket belongs\n",
    "* TicketID Unique numeric identifier for ticket\n",
    "* TicketCreatedDate Date on which ticket was created in system\n",
    "* ZendeskPlan Plan currently used by customer who submitted ticket\n",
    "* DayTicketSolved Day of week on which ticket was marked as solved\n",
    "* AssigneeTier Advocacy tier in which advocate who is assigned and who solved the ticket belongs. Tickets start in Triage and then moves from Tier 1 to Tier 2 to Tier 3, depending on the level of complexity of ticket request.\n",
    "* FirstReplyTime Number of minutes between ticket creation and first public reply by employee\n",
    "* FullResolutionTime Number of minutes between ticket creation and ticket resolution\n",
    "* NumAgentComments Number of comments made by employees\n",
    "* NumPublicComments Number of comments made by both employees and end users \n",
    "* TicketEscalated Binary value of whether ticket was escalated from Tier 1 to more advanced/experienced employees (1) or not (0)\n",
    "* CustomerSatisfaction Binary value if customer expressed satisfaction (1) or dissatisfaction (0) after ticket has been solved\n",
    "* WorkerDateHired Date employee was hired\n",
    "* WorkerLocation Physical office location of employee\n",
    "* WorkerType Employee vs contingent worker (contractor)\n",
    "* WorkerTenure Number of days between the ticket creation and hire date of employee \n",
    "\n",
    "\n",
    "Objective:\n",
    "\n",
    "* With the dataset provided, Analysis has to be carried on to determine the main three KPIs, this notebook serves as a data cleaning and Exploratory Data Aanalysis to contirbute in better analysis."
   ]
  },
  {
   "cell_type": "code",
   "execution_count": 1,
   "id": "b6b90194",
   "metadata": {},
   "outputs": [],
   "source": [
    "import pandas as pd\n",
    "import numpy as np\n",
    "import seaborn as sns\n",
    "import matplotlib.pyplot as plt\n",
    "%matplotlib inline"
   ]
  },
  {
   "cell_type": "code",
   "execution_count": 2,
   "id": "b46759da",
   "metadata": {},
   "outputs": [],
   "source": [
    "df = pd.read_csv('20180410_advocacy_interview_data.csv')"
   ]
  },
  {
   "cell_type": "markdown",
   "id": "32692d1f",
   "metadata": {},
   "source": [
    "# DATA EXPLORATION"
   ]
  },
  {
   "cell_type": "code",
   "execution_count": 3,
   "id": "8f320853",
   "metadata": {},
   "outputs": [
    {
     "data": {
      "text/html": [
       "<div>\n",
       "<style scoped>\n",
       "    .dataframe tbody tr th:only-of-type {\n",
       "        vertical-align: middle;\n",
       "    }\n",
       "\n",
       "    .dataframe tbody tr th {\n",
       "        vertical-align: top;\n",
       "    }\n",
       "\n",
       "    .dataframe thead th {\n",
       "        text-align: right;\n",
       "    }\n",
       "</style>\n",
       "<table border=\"1\" class=\"dataframe\">\n",
       "  <thead>\n",
       "    <tr style=\"text-align: right;\">\n",
       "      <th></th>\n",
       "      <th>EmployeeID</th>\n",
       "      <th>TicketChannel</th>\n",
       "      <th>TicketGroup</th>\n",
       "      <th>TicketID</th>\n",
       "      <th>TicketCreatedDate</th>\n",
       "      <th>ZendeskPlan</th>\n",
       "      <th>DayTicketSolved</th>\n",
       "      <th>AssigneeTier</th>\n",
       "      <th>FirstReplyTime</th>\n",
       "      <th>FullResolutionTime</th>\n",
       "      <th>NumAgentComments</th>\n",
       "      <th>NumPublicComments</th>\n",
       "      <th>TicketEscalated</th>\n",
       "      <th>CustomerSatisfaction</th>\n",
       "      <th>WorkerDateHired</th>\n",
       "      <th>WorkerLocation</th>\n",
       "      <th>Worker_Type</th>\n",
       "      <th>WorkerTenure</th>\n",
       "    </tr>\n",
       "  </thead>\n",
       "  <tbody>\n",
       "    <tr>\n",
       "      <th>0</th>\n",
       "      <td>1</td>\n",
       "      <td>api</td>\n",
       "      <td>Support (T1)</td>\n",
       "      <td>2840334</td>\n",
       "      <td>2017-08-04</td>\n",
       "      <td>Trial</td>\n",
       "      <td>Sunday</td>\n",
       "      <td>Tier 1</td>\n",
       "      <td>13.0</td>\n",
       "      <td>33861.0</td>\n",
       "      <td>18.0</td>\n",
       "      <td>36.0</td>\n",
       "      <td>0</td>\n",
       "      <td>NaN</td>\n",
       "      <td>2011-10-18</td>\n",
       "      <td>London</td>\n",
       "      <td>Employee</td>\n",
       "      <td>2117</td>\n",
       "    </tr>\n",
       "    <tr>\n",
       "      <th>1</th>\n",
       "      <td>1</td>\n",
       "      <td>email</td>\n",
       "      <td>Support (T1)</td>\n",
       "      <td>2136496</td>\n",
       "      <td>2017-01-09</td>\n",
       "      <td>NaN</td>\n",
       "      <td>Wednesday</td>\n",
       "      <td>Tier 1</td>\n",
       "      <td>58.0</td>\n",
       "      <td>73659.0</td>\n",
       "      <td>30.0</td>\n",
       "      <td>70.0</td>\n",
       "      <td>1</td>\n",
       "      <td>1.0</td>\n",
       "      <td>2011-10-18</td>\n",
       "      <td>London</td>\n",
       "      <td>Employee</td>\n",
       "      <td>1910</td>\n",
       "    </tr>\n",
       "    <tr>\n",
       "      <th>2</th>\n",
       "      <td>1</td>\n",
       "      <td>facebook</td>\n",
       "      <td>Support (Triage)</td>\n",
       "      <td>3034987</td>\n",
       "      <td>2017-10-12</td>\n",
       "      <td>Professional</td>\n",
       "      <td>Friday</td>\n",
       "      <td>Triage</td>\n",
       "      <td>30.0</td>\n",
       "      <td>1741.0</td>\n",
       "      <td>6.0</td>\n",
       "      <td>15.0</td>\n",
       "      <td>0</td>\n",
       "      <td>NaN</td>\n",
       "      <td>2011-10-18</td>\n",
       "      <td>London</td>\n",
       "      <td>Employee</td>\n",
       "      <td>2186</td>\n",
       "    </tr>\n",
       "    <tr>\n",
       "      <th>3</th>\n",
       "      <td>1</td>\n",
       "      <td>email</td>\n",
       "      <td>Support (T1)</td>\n",
       "      <td>2311824</td>\n",
       "      <td>2017-03-02</td>\n",
       "      <td>NaN</td>\n",
       "      <td>Sunday</td>\n",
       "      <td>Tier 1</td>\n",
       "      <td>78.0</td>\n",
       "      <td>25654.0</td>\n",
       "      <td>5.0</td>\n",
       "      <td>15.0</td>\n",
       "      <td>0</td>\n",
       "      <td>NaN</td>\n",
       "      <td>2011-10-18</td>\n",
       "      <td>London</td>\n",
       "      <td>Employee</td>\n",
       "      <td>1962</td>\n",
       "    </tr>\n",
       "    <tr>\n",
       "      <th>4</th>\n",
       "      <td>1</td>\n",
       "      <td>email</td>\n",
       "      <td>Support (T1)</td>\n",
       "      <td>2213615</td>\n",
       "      <td>2017-01-30</td>\n",
       "      <td>Professional</td>\n",
       "      <td>Friday</td>\n",
       "      <td>Tier 1</td>\n",
       "      <td>4.0</td>\n",
       "      <td>16266.0</td>\n",
       "      <td>8.0</td>\n",
       "      <td>17.0</td>\n",
       "      <td>0</td>\n",
       "      <td>0.0</td>\n",
       "      <td>2011-10-18</td>\n",
       "      <td>London</td>\n",
       "      <td>Employee</td>\n",
       "      <td>1931</td>\n",
       "    </tr>\n",
       "  </tbody>\n",
       "</table>\n",
       "</div>"
      ],
      "text/plain": [
       "   EmployeeID TicketChannel       TicketGroup  TicketID TicketCreatedDate  \\\n",
       "0           1           api      Support (T1)   2840334        2017-08-04   \n",
       "1           1         email      Support (T1)   2136496        2017-01-09   \n",
       "2           1      facebook  Support (Triage)   3034987        2017-10-12   \n",
       "3           1         email      Support (T1)   2311824        2017-03-02   \n",
       "4           1         email      Support (T1)   2213615        2017-01-30   \n",
       "\n",
       "    ZendeskPlan DayTicketSolved AssigneeTier  FirstReplyTime  \\\n",
       "0         Trial          Sunday       Tier 1            13.0   \n",
       "1           NaN       Wednesday       Tier 1            58.0   \n",
       "2  Professional          Friday       Triage            30.0   \n",
       "3           NaN          Sunday       Tier 1            78.0   \n",
       "4  Professional          Friday       Tier 1             4.0   \n",
       "\n",
       "   FullResolutionTime  NumAgentComments  NumPublicComments  TicketEscalated  \\\n",
       "0             33861.0              18.0               36.0                0   \n",
       "1             73659.0              30.0               70.0                1   \n",
       "2              1741.0               6.0               15.0                0   \n",
       "3             25654.0               5.0               15.0                0   \n",
       "4             16266.0               8.0               17.0                0   \n",
       "\n",
       "   CustomerSatisfaction WorkerDateHired WorkerLocation Worker_Type  \\\n",
       "0                   NaN      2011-10-18         London    Employee   \n",
       "1                   1.0      2011-10-18         London    Employee   \n",
       "2                   NaN      2011-10-18         London    Employee   \n",
       "3                   NaN      2011-10-18         London    Employee   \n",
       "4                   0.0      2011-10-18         London    Employee   \n",
       "\n",
       "   WorkerTenure  \n",
       "0          2117  \n",
       "1          1910  \n",
       "2          2186  \n",
       "3          1962  \n",
       "4          1931  "
      ]
     },
     "execution_count": 3,
     "metadata": {},
     "output_type": "execute_result"
    }
   ],
   "source": [
    "df.head()"
   ]
  },
  {
   "cell_type": "code",
   "execution_count": 4,
   "id": "abf45e96",
   "metadata": {},
   "outputs": [
    {
     "data": {
      "text/plain": [
       "Index(['EmployeeID', 'TicketChannel', 'TicketGroup', 'TicketID',\n",
       "       'TicketCreatedDate', 'ZendeskPlan', 'DayTicketSolved', 'AssigneeTier',\n",
       "       'FirstReplyTime', 'FullResolutionTime', 'NumAgentComments',\n",
       "       'NumPublicComments', 'TicketEscalated', 'CustomerSatisfaction',\n",
       "       'WorkerDateHired', 'WorkerLocation', 'Worker_Type', 'WorkerTenure'],\n",
       "      dtype='object')"
      ]
     },
     "execution_count": 4,
     "metadata": {},
     "output_type": "execute_result"
    }
   ],
   "source": [
    "df.columns"
   ]
  },
  {
   "cell_type": "code",
   "execution_count": 5,
   "id": "61bdbaff",
   "metadata": {},
   "outputs": [
    {
     "data": {
      "text/plain": [
       "EmployeeID                int64\n",
       "TicketChannel            object\n",
       "TicketGroup              object\n",
       "TicketID                  int64\n",
       "TicketCreatedDate        object\n",
       "ZendeskPlan              object\n",
       "DayTicketSolved          object\n",
       "AssigneeTier             object\n",
       "FirstReplyTime          float64\n",
       "FullResolutionTime      float64\n",
       "NumAgentComments        float64\n",
       "NumPublicComments       float64\n",
       "TicketEscalated           int64\n",
       "CustomerSatisfaction    float64\n",
       "WorkerDateHired          object\n",
       "WorkerLocation           object\n",
       "Worker_Type              object\n",
       "WorkerTenure              int64\n",
       "dtype: object"
      ]
     },
     "execution_count": 5,
     "metadata": {},
     "output_type": "execute_result"
    }
   ],
   "source": [
    "df.dtypes"
   ]
  },
  {
   "cell_type": "code",
   "execution_count": 6,
   "id": "e54e3f33",
   "metadata": {},
   "outputs": [
    {
     "name": "stdout",
     "output_type": "stream",
     "text": [
      "<class 'pandas.core.frame.DataFrame'>\n",
      "RangeIndex: 240665 entries, 0 to 240664\n",
      "Data columns (total 18 columns):\n",
      " #   Column                Non-Null Count   Dtype  \n",
      "---  ------                --------------   -----  \n",
      " 0   EmployeeID            240665 non-null  int64  \n",
      " 1   TicketChannel         240665 non-null  object \n",
      " 2   TicketGroup           240665 non-null  object \n",
      " 3   TicketID              240665 non-null  int64  \n",
      " 4   TicketCreatedDate     240665 non-null  object \n",
      " 5   ZendeskPlan           177729 non-null  object \n",
      " 6   DayTicketSolved       239741 non-null  object \n",
      " 7   AssigneeTier          208010 non-null  object \n",
      " 8   FirstReplyTime        157169 non-null  float64\n",
      " 9   FullResolutionTime    239741 non-null  float64\n",
      " 10  NumAgentComments      195237 non-null  float64\n",
      " 11  NumPublicComments     192623 non-null  float64\n",
      " 12  TicketEscalated       240665 non-null  int64  \n",
      " 13  CustomerSatisfaction  45554 non-null   float64\n",
      " 14  WorkerDateHired       240665 non-null  object \n",
      " 15  WorkerLocation        240665 non-null  object \n",
      " 16  Worker_Type           240665 non-null  object \n",
      " 17  WorkerTenure          240665 non-null  int64  \n",
      "dtypes: float64(5), int64(4), object(9)\n",
      "memory usage: 33.1+ MB\n"
     ]
    }
   ],
   "source": [
    "df.info()"
   ]
  },
  {
   "cell_type": "code",
   "execution_count": 7,
   "id": "66ee90d9",
   "metadata": {},
   "outputs": [
    {
     "data": {
      "text/html": [
       "<div>\n",
       "<style scoped>\n",
       "    .dataframe tbody tr th:only-of-type {\n",
       "        vertical-align: middle;\n",
       "    }\n",
       "\n",
       "    .dataframe tbody tr th {\n",
       "        vertical-align: top;\n",
       "    }\n",
       "\n",
       "    .dataframe thead th {\n",
       "        text-align: right;\n",
       "    }\n",
       "</style>\n",
       "<table border=\"1\" class=\"dataframe\">\n",
       "  <thead>\n",
       "    <tr style=\"text-align: right;\">\n",
       "      <th></th>\n",
       "      <th>EmployeeID</th>\n",
       "      <th>TicketID</th>\n",
       "      <th>FirstReplyTime</th>\n",
       "      <th>FullResolutionTime</th>\n",
       "      <th>NumAgentComments</th>\n",
       "      <th>NumPublicComments</th>\n",
       "      <th>TicketEscalated</th>\n",
       "      <th>CustomerSatisfaction</th>\n",
       "      <th>WorkerTenure</th>\n",
       "    </tr>\n",
       "  </thead>\n",
       "  <tbody>\n",
       "    <tr>\n",
       "      <th>count</th>\n",
       "      <td>240665.000000</td>\n",
       "      <td>2.406650e+05</td>\n",
       "      <td>157169.000000</td>\n",
       "      <td>239741.000000</td>\n",
       "      <td>195237.000000</td>\n",
       "      <td>192623.000000</td>\n",
       "      <td>240665.000000</td>\n",
       "      <td>45554.000000</td>\n",
       "      <td>240665.000000</td>\n",
       "    </tr>\n",
       "    <tr>\n",
       "      <th>mean</th>\n",
       "      <td>1853.958444</td>\n",
       "      <td>2.612557e+06</td>\n",
       "      <td>813.261088</td>\n",
       "      <td>5949.678053</td>\n",
       "      <td>3.100309</td>\n",
       "      <td>3.834443</td>\n",
       "      <td>0.159300</td>\n",
       "      <td>0.939500</td>\n",
       "      <td>514.366223</td>\n",
       "    </tr>\n",
       "    <tr>\n",
       "      <th>std</th>\n",
       "      <td>651.379958</td>\n",
       "      <td>2.820156e+05</td>\n",
       "      <td>6446.203622</td>\n",
       "      <td>19227.491206</td>\n",
       "      <td>3.499996</td>\n",
       "      <td>4.566357</td>\n",
       "      <td>0.365957</td>\n",
       "      <td>0.238413</td>\n",
       "      <td>353.778344</td>\n",
       "    </tr>\n",
       "    <tr>\n",
       "      <th>min</th>\n",
       "      <td>1.000000</td>\n",
       "      <td>2.116910e+06</td>\n",
       "      <td>0.000000</td>\n",
       "      <td>0.000000</td>\n",
       "      <td>1.000000</td>\n",
       "      <td>1.000000</td>\n",
       "      <td>0.000000</td>\n",
       "      <td>0.000000</td>\n",
       "      <td>-223.000000</td>\n",
       "    </tr>\n",
       "    <tr>\n",
       "      <th>25%</th>\n",
       "      <td>1488.000000</td>\n",
       "      <td>2.340143e+06</td>\n",
       "      <td>14.000000</td>\n",
       "      <td>13.000000</td>\n",
       "      <td>1.000000</td>\n",
       "      <td>2.000000</td>\n",
       "      <td>0.000000</td>\n",
       "      <td>1.000000</td>\n",
       "      <td>262.000000</td>\n",
       "    </tr>\n",
       "    <tr>\n",
       "      <th>50%</th>\n",
       "      <td>1975.000000</td>\n",
       "      <td>2.629618e+06</td>\n",
       "      <td>53.000000</td>\n",
       "      <td>116.000000</td>\n",
       "      <td>2.000000</td>\n",
       "      <td>2.000000</td>\n",
       "      <td>0.000000</td>\n",
       "      <td>1.000000</td>\n",
       "      <td>469.000000</td>\n",
       "    </tr>\n",
       "    <tr>\n",
       "      <th>75%</th>\n",
       "      <td>2362.000000</td>\n",
       "      <td>2.849437e+06</td>\n",
       "      <td>236.000000</td>\n",
       "      <td>8112.000000</td>\n",
       "      <td>4.000000</td>\n",
       "      <td>4.000000</td>\n",
       "      <td>0.000000</td>\n",
       "      <td>1.000000</td>\n",
       "      <td>675.000000</td>\n",
       "    </tr>\n",
       "    <tr>\n",
       "      <th>max</th>\n",
       "      <td>3411.000000</td>\n",
       "      <td>3.224171e+06</td>\n",
       "      <td>498116.000000</td>\n",
       "      <td>548814.000000</td>\n",
       "      <td>370.000000</td>\n",
       "      <td>245.000000</td>\n",
       "      <td>1.000000</td>\n",
       "      <td>1.000000</td>\n",
       "      <td>2334.000000</td>\n",
       "    </tr>\n",
       "  </tbody>\n",
       "</table>\n",
       "</div>"
      ],
      "text/plain": [
       "          EmployeeID      TicketID  FirstReplyTime  FullResolutionTime  \\\n",
       "count  240665.000000  2.406650e+05   157169.000000       239741.000000   \n",
       "mean     1853.958444  2.612557e+06      813.261088         5949.678053   \n",
       "std       651.379958  2.820156e+05     6446.203622        19227.491206   \n",
       "min         1.000000  2.116910e+06        0.000000            0.000000   \n",
       "25%      1488.000000  2.340143e+06       14.000000           13.000000   \n",
       "50%      1975.000000  2.629618e+06       53.000000          116.000000   \n",
       "75%      2362.000000  2.849437e+06      236.000000         8112.000000   \n",
       "max      3411.000000  3.224171e+06   498116.000000       548814.000000   \n",
       "\n",
       "       NumAgentComments  NumPublicComments  TicketEscalated  \\\n",
       "count     195237.000000      192623.000000    240665.000000   \n",
       "mean           3.100309           3.834443         0.159300   \n",
       "std            3.499996           4.566357         0.365957   \n",
       "min            1.000000           1.000000         0.000000   \n",
       "25%            1.000000           2.000000         0.000000   \n",
       "50%            2.000000           2.000000         0.000000   \n",
       "75%            4.000000           4.000000         0.000000   \n",
       "max          370.000000         245.000000         1.000000   \n",
       "\n",
       "       CustomerSatisfaction   WorkerTenure  \n",
       "count          45554.000000  240665.000000  \n",
       "mean               0.939500     514.366223  \n",
       "std                0.238413     353.778344  \n",
       "min                0.000000    -223.000000  \n",
       "25%                1.000000     262.000000  \n",
       "50%                1.000000     469.000000  \n",
       "75%                1.000000     675.000000  \n",
       "max                1.000000    2334.000000  "
      ]
     },
     "execution_count": 7,
     "metadata": {},
     "output_type": "execute_result"
    }
   ],
   "source": [
    "df.describe()"
   ]
  },
  {
   "cell_type": "markdown",
   "id": "690e7e26",
   "metadata": {},
   "source": [
    "### Check for null values:\n",
    "\n",
    "1) Noticed a lot of values missing in Customer Satisfaction, could be that not a lot of people responded or issues with the data quality. Only 18% of the values have rows of customer satisfaction.\n",
    "\n",
    "2) Noticed that about 924 tickets are unresolved by looking at the dayticketsolved and resolution time both having the same number of missing values.\n",
    "\n",
    "3) Zendesk Plan has a lot of missing values, however this could be because of non-zendesk clients reaching out to the support team"
   ]
  },
  {
   "cell_type": "code",
   "execution_count": 8,
   "id": "5424944b",
   "metadata": {},
   "outputs": [
    {
     "data": {
      "text/plain": [
       "EmployeeID                   0\n",
       "TicketChannel                0\n",
       "TicketGroup                  0\n",
       "TicketID                     0\n",
       "TicketCreatedDate            0\n",
       "ZendeskPlan              62936\n",
       "DayTicketSolved            924\n",
       "AssigneeTier             32655\n",
       "FirstReplyTime           83496\n",
       "FullResolutionTime         924\n",
       "NumAgentComments         45428\n",
       "NumPublicComments        48042\n",
       "TicketEscalated              0\n",
       "CustomerSatisfaction    195111\n",
       "WorkerDateHired              0\n",
       "WorkerLocation               0\n",
       "Worker_Type                  0\n",
       "WorkerTenure                 0\n",
       "dtype: int64"
      ]
     },
     "execution_count": 8,
     "metadata": {},
     "output_type": "execute_result"
    }
   ],
   "source": [
    "df.isnull().sum() "
   ]
  },
  {
   "cell_type": "markdown",
   "id": "467fc559",
   "metadata": {},
   "source": [
    "## Noticed Null values in Zendesk Plan so and a plan called Unknown, combine these two together since it could be said that we do not know their plans"
   ]
  },
  {
   "cell_type": "markdown",
   "id": "0f5175c4",
   "metadata": {},
   "source": [
    " Replace [Zendesk Plan] Column Null Values with a category\n"
   ]
  },
  {
   "cell_type": "code",
   "execution_count": 9,
   "id": "a9d19c73",
   "metadata": {
    "scrolled": true
   },
   "outputs": [
    {
     "data": {
      "text/plain": [
       "Enterprise Legacy    44783\n",
       "Trial                33342\n",
       "Professional         22962\n",
       "Plus                 18503\n",
       "Non-Customer         12851\n",
       "Team                 11765\n",
       "Expired              11237\n",
       "Enterprise            7087\n",
       "Regular               6928\n",
       "Essential             3017\n",
       "Starter               2206\n",
       "Enterprise Elite      1900\n",
       "Unknown                860\n",
       "Inbox                  288\n",
       "Name: ZendeskPlan, dtype: int64"
      ]
     },
     "execution_count": 9,
     "metadata": {},
     "output_type": "execute_result"
    }
   ],
   "source": [
    "df['ZendeskPlan'].value_counts()"
   ]
  },
  {
   "cell_type": "code",
   "execution_count": 10,
   "id": "a4098583",
   "metadata": {},
   "outputs": [],
   "source": [
    "df['ZendeskPlan'].fillna(\"Unknown\", inplace = True)"
   ]
  },
  {
   "cell_type": "code",
   "execution_count": 11,
   "id": "a688c799",
   "metadata": {
    "scrolled": true
   },
   "outputs": [
    {
     "data": {
      "text/plain": [
       "0"
      ]
     },
     "execution_count": 11,
     "metadata": {},
     "output_type": "execute_result"
    }
   ],
   "source": [
    "df['ZendeskPlan'].isnull().sum()"
   ]
  },
  {
   "cell_type": "code",
   "execution_count": 12,
   "id": "1bc767de",
   "metadata": {},
   "outputs": [
    {
     "data": {
      "text/plain": [
       "Unknown              63796\n",
       "Enterprise Legacy    44783\n",
       "Trial                33342\n",
       "Professional         22962\n",
       "Plus                 18503\n",
       "Non-Customer         12851\n",
       "Team                 11765\n",
       "Expired              11237\n",
       "Enterprise            7087\n",
       "Regular               6928\n",
       "Essential             3017\n",
       "Starter               2206\n",
       "Enterprise Elite      1900\n",
       "Inbox                  288\n",
       "Name: ZendeskPlan, dtype: int64"
      ]
     },
     "execution_count": 12,
     "metadata": {},
     "output_type": "execute_result"
    }
   ],
   "source": [
    "df['ZendeskPlan'].value_counts()"
   ]
  },
  {
   "cell_type": "markdown",
   "id": "b4247d80",
   "metadata": {},
   "source": [
    "# Customer Satisfaction : Null Values"
   ]
  },
  {
   "cell_type": "code",
   "execution_count": 21,
   "id": "06fd564d",
   "metadata": {},
   "outputs": [
    {
     "data": {
      "text/plain": [
       "195111"
      ]
     },
     "execution_count": 21,
     "metadata": {},
     "output_type": "execute_result"
    }
   ],
   "source": [
    "df['CustomerSatisfaction'].isnull().sum() #this number of null values could represent the Number of unresponsive surveys"
   ]
  },
  {
   "cell_type": "code",
   "execution_count": 19,
   "id": "375c6736",
   "metadata": {},
   "outputs": [
    {
     "data": {
      "text/plain": [
       "1.0    42798\n",
       "0.0     2756\n",
       "Name: CustomerSatisfaction, dtype: int64"
      ]
     },
     "execution_count": 19,
     "metadata": {},
     "output_type": "execute_result"
    }
   ],
   "source": [
    "df['CustomerSatisfaction'].value_counts()"
   ]
  },
  {
   "cell_type": "code",
   "execution_count": 18,
   "id": "c017891e",
   "metadata": {},
   "outputs": [
    {
     "data": {
      "text/plain": [
       "0.1892838593065049"
      ]
     },
     "execution_count": 18,
     "metadata": {},
     "output_type": "execute_result"
    }
   ],
   "source": [
    "df['CustomerSatisfaction'].count()/df['TicketID'].count() #only 18% of the data had the customr satisfaction filled \n",
    "# This could be the Customer Satisfaction Survey Completion"
   ]
  },
  {
   "cell_type": "markdown",
   "id": "3fda03e1",
   "metadata": {},
   "source": [
    "# EDA "
   ]
  },
  {
   "cell_type": "code",
   "execution_count": 13,
   "id": "8710ca7a",
   "metadata": {},
   "outputs": [
    {
     "data": {
      "text/plain": [
       "array([[<AxesSubplot:title={'center':'EmployeeID'}>,\n",
       "        <AxesSubplot:title={'center':'TicketID'}>,\n",
       "        <AxesSubplot:title={'center':'FirstReplyTime'}>],\n",
       "       [<AxesSubplot:title={'center':'FullResolutionTime'}>,\n",
       "        <AxesSubplot:title={'center':'NumAgentComments'}>,\n",
       "        <AxesSubplot:title={'center':'NumPublicComments'}>],\n",
       "       [<AxesSubplot:title={'center':'TicketEscalated'}>,\n",
       "        <AxesSubplot:title={'center':'CustomerSatisfaction'}>,\n",
       "        <AxesSubplot:title={'center':'WorkerTenure'}>]], dtype=object)"
      ]
     },
     "execution_count": 13,
     "metadata": {},
     "output_type": "execute_result"
    },
    {
     "data": {
      "image/png": "[encoded data removed]",
      "text/plain": [
       "<Figure size 576x720 with 9 Axes>"
      ]
     },
     "metadata": {
      "needs_background": "light"
     },
     "output_type": "display_data"
    }
   ],
   "source": [
    "df.hist(figsize= (8,10))"
   ]
  },
  {
   "cell_type": "markdown",
   "id": "abec3b6e",
   "metadata": {},
   "source": [
    "#### Noticed that Workers Tenure (defined by the number of days between ticket creation and hire date) had negative values,  could mean that the Employees were assigned tickets after they resumed\n"
   ]
  },
  {
   "cell_type": "code",
   "execution_count": 14,
   "id": "9ea81e2a",
   "metadata": {},
   "outputs": [
    {
     "data": {
      "text/plain": [
       "(array([104132., 121546.,  10719.,   4268.]),\n",
       " array([-223.  ,  416.25, 1055.5 , 1694.75, 2334.  ]),\n",
       " <BarContainer object of 4 artists>)"
      ]
     },
     "execution_count": 14,
     "metadata": {},
     "output_type": "execute_result"
    },
    {
     "data": {
      "image/png": "[encoded data removed]",
      "text/plain": [
       "<Figure size 640x480 with 1 Axes>"
      ]
     },
     "metadata": {
      "needs_background": "light"
     },
     "output_type": "display_data"
    }
   ],
   "source": [
    "fig = plt.figure(figsize=(8,6), dpi =80)\n",
    "ax = fig.add_subplot(1,1,1)\n",
    "ax.hist(df['WorkerTenure'], bins= 4)"
   ]
  },
  {
   "cell_type": "code",
   "execution_count": 15,
   "id": "ba5fa982",
   "metadata": {
    "scrolled": true
   },
   "outputs": [
    {
     "data": {
      "text/html": [
       "<div>\n",
       "<style scoped>\n",
       "    .dataframe tbody tr th:only-of-type {\n",
       "        vertical-align: middle;\n",
       "    }\n",
       "\n",
       "    .dataframe tbody tr th {\n",
       "        vertical-align: top;\n",
       "    }\n",
       "\n",
       "    .dataframe thead th {\n",
       "        text-align: right;\n",
       "    }\n",
       "</style>\n",
       "<table border=\"1\" class=\"dataframe\">\n",
       "  <thead>\n",
       "    <tr style=\"text-align: right;\">\n",
       "      <th></th>\n",
       "      <th>EmployeeID</th>\n",
       "      <th>TicketID</th>\n",
       "      <th>FirstReplyTime</th>\n",
       "      <th>FullResolutionTime</th>\n",
       "      <th>NumAgentComments</th>\n",
       "      <th>NumPublicComments</th>\n",
       "      <th>TicketEscalated</th>\n",
       "      <th>CustomerSatisfaction</th>\n",
       "      <th>WorkerTenure</th>\n",
       "    </tr>\n",
       "  </thead>\n",
       "  <tbody>\n",
       "    <tr>\n",
       "      <th>EmployeeID</th>\n",
       "      <td>1.000000</td>\n",
       "      <td>0.173500</td>\n",
       "      <td>-0.052591</td>\n",
       "      <td>-0.089498</td>\n",
       "      <td>-0.123982</td>\n",
       "      <td>-0.111294</td>\n",
       "      <td>-0.227105</td>\n",
       "      <td>0.013534</td>\n",
       "      <td>-0.922823</td>\n",
       "    </tr>\n",
       "    <tr>\n",
       "      <th>TicketID</th>\n",
       "      <td>0.173500</td>\n",
       "      <td>1.000000</td>\n",
       "      <td>-0.042073</td>\n",
       "      <td>-0.028931</td>\n",
       "      <td>0.010184</td>\n",
       "      <td>0.012107</td>\n",
       "      <td>-0.020168</td>\n",
       "      <td>-0.009592</td>\n",
       "      <td>0.093599</td>\n",
       "    </tr>\n",
       "    <tr>\n",
       "      <th>FirstReplyTime</th>\n",
       "      <td>-0.052591</td>\n",
       "      <td>-0.042073</td>\n",
       "      <td>1.000000</td>\n",
       "      <td>0.312852</td>\n",
       "      <td>0.066672</td>\n",
       "      <td>-0.013174</td>\n",
       "      <td>0.001018</td>\n",
       "      <td>-0.055248</td>\n",
       "      <td>0.045012</td>\n",
       "    </tr>\n",
       "    <tr>\n",
       "      <th>FullResolutionTime</th>\n",
       "      <td>-0.089498</td>\n",
       "      <td>-0.028931</td>\n",
       "      <td>0.312852</td>\n",
       "      <td>1.000000</td>\n",
       "      <td>0.367918</td>\n",
       "      <td>0.325644</td>\n",
       "      <td>0.224620</td>\n",
       "      <td>-0.136801</td>\n",
       "      <td>0.082985</td>\n",
       "    </tr>\n",
       "    <tr>\n",
       "      <th>NumAgentComments</th>\n",
       "      <td>-0.123982</td>\n",
       "      <td>0.010184</td>\n",
       "      <td>0.066672</td>\n",
       "      <td>0.367918</td>\n",
       "      <td>1.000000</td>\n",
       "      <td>0.851539</td>\n",
       "      <td>0.475299</td>\n",
       "      <td>-0.021527</td>\n",
       "      <td>0.111080</td>\n",
       "    </tr>\n",
       "    <tr>\n",
       "      <th>NumPublicComments</th>\n",
       "      <td>-0.111294</td>\n",
       "      <td>0.012107</td>\n",
       "      <td>-0.013174</td>\n",
       "      <td>0.325644</td>\n",
       "      <td>0.851539</td>\n",
       "      <td>1.000000</td>\n",
       "      <td>0.430574</td>\n",
       "      <td>-0.060151</td>\n",
       "      <td>0.102246</td>\n",
       "    </tr>\n",
       "    <tr>\n",
       "      <th>TicketEscalated</th>\n",
       "      <td>-0.227105</td>\n",
       "      <td>-0.020168</td>\n",
       "      <td>0.001018</td>\n",
       "      <td>0.224620</td>\n",
       "      <td>0.475299</td>\n",
       "      <td>0.430574</td>\n",
       "      <td>1.000000</td>\n",
       "      <td>0.002854</td>\n",
       "      <td>0.190295</td>\n",
       "    </tr>\n",
       "    <tr>\n",
       "      <th>CustomerSatisfaction</th>\n",
       "      <td>0.013534</td>\n",
       "      <td>-0.009592</td>\n",
       "      <td>-0.055248</td>\n",
       "      <td>-0.136801</td>\n",
       "      <td>-0.021527</td>\n",
       "      <td>-0.060151</td>\n",
       "      <td>0.002854</td>\n",
       "      <td>1.000000</td>\n",
       "      <td>-0.015430</td>\n",
       "    </tr>\n",
       "    <tr>\n",
       "      <th>WorkerTenure</th>\n",
       "      <td>-0.922823</td>\n",
       "      <td>0.093599</td>\n",
       "      <td>0.045012</td>\n",
       "      <td>0.082985</td>\n",
       "      <td>0.111080</td>\n",
       "      <td>0.102246</td>\n",
       "      <td>0.190295</td>\n",
       "      <td>-0.015430</td>\n",
       "      <td>1.000000</td>\n",
       "    </tr>\n",
       "  </tbody>\n",
       "</table>\n",
       "</div>"
      ],
      "text/plain": [
       "                      EmployeeID  TicketID  FirstReplyTime  \\\n",
       "EmployeeID              1.000000  0.173500       -0.052591   \n",
       "TicketID                0.173500  1.000000       -0.042073   \n",
       "FirstReplyTime         -0.052591 -0.042073        1.000000   \n",
       "FullResolutionTime     -0.089498 -0.028931        0.312852   \n",
       "NumAgentComments       -0.123982  0.010184        0.066672   \n",
       "NumPublicComments      -0.111294  0.012107       -0.013174   \n",
       "TicketEscalated        -0.227105 -0.020168        0.001018   \n",
       "CustomerSatisfaction    0.013534 -0.009592       -0.055248   \n",
       "WorkerTenure           -0.922823  0.093599        0.045012   \n",
       "\n",
       "                      FullResolutionTime  NumAgentComments  NumPublicComments  \\\n",
       "EmployeeID                     -0.089498         -0.123982          -0.111294   \n",
       "TicketID                       -0.028931          0.010184           0.012107   \n",
       "FirstReplyTime                  0.312852          0.066672          -0.013174   \n",
       "FullResolutionTime              1.000000          0.367918           0.325644   \n",
       "NumAgentComments                0.367918          1.000000           0.851539   \n",
       "NumPublicComments               0.325644          0.851539           1.000000   \n",
       "TicketEscalated                 0.224620          0.475299           0.430574   \n",
       "CustomerSatisfaction           -0.136801         -0.021527          -0.060151   \n",
       "WorkerTenure                    0.082985          0.111080           0.102246   \n",
       "\n",
       "                      TicketEscalated  CustomerSatisfaction  WorkerTenure  \n",
       "EmployeeID                  -0.227105              0.013534     -0.922823  \n",
       "TicketID                    -0.020168             -0.009592      0.093599  \n",
       "FirstReplyTime               0.001018             -0.055248      0.045012  \n",
       "FullResolutionTime           0.224620             -0.136801      0.082985  \n",
       "NumAgentComments             0.475299             -0.021527      0.111080  \n",
       "NumPublicComments            0.430574             -0.060151      0.102246  \n",
       "TicketEscalated              1.000000              0.002854      0.190295  \n",
       "CustomerSatisfaction         0.002854              1.000000     -0.015430  \n",
       "WorkerTenure                 0.190295             -0.015430      1.000000  "
      ]
     },
     "execution_count": 15,
     "metadata": {},
     "output_type": "execute_result"
    }
   ],
   "source": [
    "df.corr()"
   ]
  },
  {
   "cell_type": "markdown",
   "id": "7de9c3ae",
   "metadata": {},
   "source": [
    "## Export Data"
   ]
  },
  {
   "cell_type": "code",
   "execution_count": 25,
   "id": "72b8cb6a",
   "metadata": {},
   "outputs": [
    {
     "data": {
      "text/html": [
       "<div>\n",
       "<style scoped>\n",
       "    .dataframe tbody tr th:only-of-type {\n",
       "        vertical-align: middle;\n",
       "    }\n",
       "\n",
       "    .dataframe tbody tr th {\n",
       "        vertical-align: top;\n",
       "    }\n",
       "\n",
       "    .dataframe thead th {\n",
       "        text-align: right;\n",
       "    }\n",
       "</style>\n",
       "<table border=\"1\" class=\"dataframe\">\n",
       "  <thead>\n",
       "    <tr style=\"text-align: right;\">\n",
       "      <th></th>\n",
       "      <th>EmployeeID</th>\n",
       "      <th>TicketChannel</th>\n",
       "      <th>TicketGroup</th>\n",
       "      <th>TicketID</th>\n",
       "      <th>TicketCreatedDate</th>\n",
       "      <th>ZendeskPlan</th>\n",
       "      <th>DayTicketSolved</th>\n",
       "      <th>AssigneeTier</th>\n",
       "      <th>FirstReplyTime</th>\n",
       "      <th>FullResolutionTime</th>\n",
       "      <th>NumAgentComments</th>\n",
       "      <th>NumPublicComments</th>\n",
       "      <th>TicketEscalated</th>\n",
       "      <th>CustomerSatisfaction</th>\n",
       "      <th>WorkerDateHired</th>\n",
       "      <th>WorkerLocation</th>\n",
       "      <th>Worker_Type</th>\n",
       "      <th>WorkerTenure</th>\n",
       "    </tr>\n",
       "  </thead>\n",
       "  <tbody>\n",
       "    <tr>\n",
       "      <th>0</th>\n",
       "      <td>1</td>\n",
       "      <td>api</td>\n",
       "      <td>Support (T1)</td>\n",
       "      <td>2840334</td>\n",
       "      <td>2017-08-04</td>\n",
       "      <td>Trial</td>\n",
       "      <td>Sunday</td>\n",
       "      <td>Tier 1</td>\n",
       "      <td>13.0</td>\n",
       "      <td>33861.0</td>\n",
       "      <td>18.0</td>\n",
       "      <td>36.0</td>\n",
       "      <td>0</td>\n",
       "      <td>NaN</td>\n",
       "      <td>2011-10-18</td>\n",
       "      <td>London</td>\n",
       "      <td>Employee</td>\n",
       "      <td>2117</td>\n",
       "    </tr>\n",
       "    <tr>\n",
       "      <th>1</th>\n",
       "      <td>1</td>\n",
       "      <td>email</td>\n",
       "      <td>Support (T1)</td>\n",
       "      <td>2136496</td>\n",
       "      <td>2017-01-09</td>\n",
       "      <td>Unknown</td>\n",
       "      <td>Wednesday</td>\n",
       "      <td>Tier 1</td>\n",
       "      <td>58.0</td>\n",
       "      <td>73659.0</td>\n",
       "      <td>30.0</td>\n",
       "      <td>70.0</td>\n",
       "      <td>1</td>\n",
       "      <td>1.0</td>\n",
       "      <td>2011-10-18</td>\n",
       "      <td>London</td>\n",
       "      <td>Employee</td>\n",
       "      <td>1910</td>\n",
       "    </tr>\n",
       "    <tr>\n",
       "      <th>2</th>\n",
       "      <td>1</td>\n",
       "      <td>facebook</td>\n",
       "      <td>Support (Triage)</td>\n",
       "      <td>3034987</td>\n",
       "      <td>2017-10-12</td>\n",
       "      <td>Professional</td>\n",
       "      <td>Friday</td>\n",
       "      <td>Triage</td>\n",
       "      <td>30.0</td>\n",
       "      <td>1741.0</td>\n",
       "      <td>6.0</td>\n",
       "      <td>15.0</td>\n",
       "      <td>0</td>\n",
       "      <td>NaN</td>\n",
       "      <td>2011-10-18</td>\n",
       "      <td>London</td>\n",
       "      <td>Employee</td>\n",
       "      <td>2186</td>\n",
       "    </tr>\n",
       "    <tr>\n",
       "      <th>3</th>\n",
       "      <td>1</td>\n",
       "      <td>email</td>\n",
       "      <td>Support (T1)</td>\n",
       "      <td>2311824</td>\n",
       "      <td>2017-03-02</td>\n",
       "      <td>Unknown</td>\n",
       "      <td>Sunday</td>\n",
       "      <td>Tier 1</td>\n",
       "      <td>78.0</td>\n",
       "      <td>25654.0</td>\n",
       "      <td>5.0</td>\n",
       "      <td>15.0</td>\n",
       "      <td>0</td>\n",
       "      <td>NaN</td>\n",
       "      <td>2011-10-18</td>\n",
       "      <td>London</td>\n",
       "      <td>Employee</td>\n",
       "      <td>1962</td>\n",
       "    </tr>\n",
       "    <tr>\n",
       "      <th>4</th>\n",
       "      <td>1</td>\n",
       "      <td>email</td>\n",
       "      <td>Support (T1)</td>\n",
       "      <td>2213615</td>\n",
       "      <td>2017-01-30</td>\n",
       "      <td>Professional</td>\n",
       "      <td>Friday</td>\n",
       "      <td>Tier 1</td>\n",
       "      <td>4.0</td>\n",
       "      <td>16266.0</td>\n",
       "      <td>8.0</td>\n",
       "      <td>17.0</td>\n",
       "      <td>0</td>\n",
       "      <td>0.0</td>\n",
       "      <td>2011-10-18</td>\n",
       "      <td>London</td>\n",
       "      <td>Employee</td>\n",
       "      <td>1931</td>\n",
       "    </tr>\n",
       "  </tbody>\n",
       "</table>\n",
       "</div>"
      ],
      "text/plain": [
       "   EmployeeID TicketChannel       TicketGroup  TicketID TicketCreatedDate  \\\n",
       "0           1           api      Support (T1)   2840334        2017-08-04   \n",
       "1           1         email      Support (T1)   2136496        2017-01-09   \n",
       "2           1      facebook  Support (Triage)   3034987        2017-10-12   \n",
       "3           1         email      Support (T1)   2311824        2017-03-02   \n",
       "4           1         email      Support (T1)   2213615        2017-01-30   \n",
       "\n",
       "    ZendeskPlan DayTicketSolved AssigneeTier  FirstReplyTime  \\\n",
       "0         Trial          Sunday       Tier 1            13.0   \n",
       "1       Unknown       Wednesday       Tier 1            58.0   \n",
       "2  Professional          Friday       Triage            30.0   \n",
       "3       Unknown          Sunday       Tier 1            78.0   \n",
       "4  Professional          Friday       Tier 1             4.0   \n",
       "\n",
       "   FullResolutionTime  NumAgentComments  NumPublicComments  TicketEscalated  \\\n",
       "0             33861.0              18.0               36.0                0   \n",
       "1             73659.0              30.0               70.0                1   \n",
       "2              1741.0               6.0               15.0                0   \n",
       "3             25654.0               5.0               15.0                0   \n",
       "4             16266.0               8.0               17.0                0   \n",
       "\n",
       "   CustomerSatisfaction WorkerDateHired WorkerLocation Worker_Type  \\\n",
       "0                   NaN      2011-10-18         London    Employee   \n",
       "1                   1.0      2011-10-18         London    Employee   \n",
       "2                   NaN      2011-10-18         London    Employee   \n",
       "3                   NaN      2011-10-18         London    Employee   \n",
       "4                   0.0      2011-10-18         London    Employee   \n",
       "\n",
       "   WorkerTenure  \n",
       "0          2117  \n",
       "1          1910  \n",
       "2          2186  \n",
       "3          1962  \n",
       "4          1931  "
      ]
     },
     "execution_count": 25,
     "metadata": {},
     "output_type": "execute_result"
    }
   ],
   "source": [
    "df.head()"
   ]
  },
  {
   "cell_type": "code",
   "execution_count": 28,
   "id": "a688a753",
   "metadata": {},
   "outputs": [],
   "source": [
    "df.to_csv(\"20180410_advocacy_interview_data_cleaned.csv\", mode = 'w', index=False)"
   ]
  }
 ],
 "metadata": {
  "kernelspec": {
   "display_name": "Python 3",
   "language": "python",
   "name": "python3"
  },
  "language_info": {
   "codemirror_mode": {
    "name": "ipython",
    "version": 3
   },
   "file_extension": ".py",
   "mimetype": "text/x-python",
   "name": "python",
   "nbconvert_exporter": "python",
   "pygments_lexer": "ipython3",
   "version": "3.8.8"
  }
 },
 "nbformat": 4,
 "nbformat_minor": 5
}
